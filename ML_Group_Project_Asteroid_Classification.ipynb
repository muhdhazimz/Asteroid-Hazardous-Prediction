{
 "cells": [
  {
   "cell_type": "markdown",
   "id": "static-polls",
   "metadata": {
    "id": "static-polls",
    "papermill": {
     "duration": 0.027239,
     "end_time": "2021-05-27T15:26:18.922337",
     "exception": false,
     "start_time": "2021-05-27T15:26:18.895098",
     "status": "completed"
    },
    "tags": []
   },
   "source": [
    "# INTRODUCTION"
   ]
  },
  {
   "cell_type": "markdown",
   "id": "aggregate-signal",
   "metadata": {
    "id": "aggregate-signal",
    "papermill": {
     "duration": 0.025094,
     "end_time": "2021-05-27T15:26:18.972842",
     "exception": false,
     "start_time": "2021-05-27T15:26:18.947748",
     "status": "completed"
    },
    "tags": []
   },
   "source": [
    "### Data\n",
    "The data is about Asteroids - NeoWs.\n",
    "NeoWs (Near Earth Object Web Service) is a RESTful web service for near earth Asteroid information. With NeoWs a user can: search for Asteroids based on their closest approach date to Earth, lookup a specific Asteroid with its NASA JPL small body id, as well as browse the overall data-set.\n",
    "\n",
    "Acknowledgements\n",
    "Data-set: All the data is from the (http://neo.jpl.nasa.gov/). This API is maintained by SpaceRocks Team: David Greenfield, Arezu Sarvestani, Jason English and Peter Baunach.\n",
    " \n",
    "### Tasks\n",
    "Based on the information within the dataset we want to performs two tasks:\n",
    "- Develop a **model that predicts if an asteroid is going to be hazardous or not**\n",
    "- Identify which **features are more relevant towards the classfication** on point 1\n",
    "\n",
    "To tackle this two tasks I'll use the methods listed below, and extract the results from the method with best performance on unseen data\n",
    "- Logistic Regression\n",
    "- Decision Tree\n",
    "- Random Forest\n",
    "- SVM\n",
    "- XGBossting\n",
    " "
   ]
  },
  {
   "cell_type": "code",
   "execution_count": null,
   "id": "c8add257",
   "metadata": {},
   "outputs": [],
   "source": [
    "!pip install xgboost\n"
   ]
  },
  {
   "cell_type": "markdown",
   "id": "moving-breast",
   "metadata": {
    "id": "moving-breast",
    "papermill": {
     "duration": 0.026755,
     "end_time": "2021-05-27T15:26:19.029002",
     "exception": false,
     "start_time": "2021-05-27T15:26:19.002247",
     "status": "completed"
    },
    "tags": []
   },
   "source": [
    "# Libraries & Data Import"
   ]
  },
  {
   "cell_type": "code",
   "execution_count": null,
   "id": "individual-footwear",
   "metadata": {
    "_cell_guid": "b1076dfc-b9ad-4769-8c92-a6c4dae69d19",
    "_uuid": "8f2839f25d086af736a60e9eeb907d3b93b6e0e5",
    "execution": {
     "iopub.execute_input": "2021-05-27T15:26:19.084882Z",
     "iopub.status.busy": "2021-05-27T15:26:19.083615Z",
     "iopub.status.idle": "2021-05-27T15:26:20.401803Z",
     "shell.execute_reply": "2021-05-27T15:26:20.401038Z",
     "shell.execute_reply.started": "2021-05-20T18:23:32.528991Z"
    },
    "id": "individual-footwear",
    "papermill": {
     "duration": 1.346959,
     "end_time": "2021-05-27T15:26:20.402008",
     "exception": false,
     "start_time": "2021-05-27T15:26:19.055049",
     "status": "completed"
    },
    "tags": []
   },
   "outputs": [],
   "source": [
    "# Programming\n",
    "import pandas as pd\n",
    "import numpy as np\n",
    "\n",
    "# Machine Learning | sklearn\n",
    "from sklearn.linear_model import LogisticRegression\n",
    "from sklearn.svm import SVC\n",
    "from sklearn.tree import DecisionTreeClassifier, plot_tree\n",
    "from sklearn.ensemble import RandomForestClassifier, GradientBoostingClassifier\n",
    "from xgboost import XGBClassifier, plot_importance\n",
    "from sklearn.model_selection import train_test_split, GridSearchCV\n",
    "from sklearn.pipeline import Pipeline\n",
    "from sklearn.preprocessing import LabelEncoder\n",
    "from sklearn.preprocessing import StandardScaler\n",
    "\n",
    "# Visualizations\n",
    "import matplotlib.pyplot as plt\n",
    "import seaborn as sns\n",
    "\n",
    "# Other\n",
    "import missingno as msno\n",
    "import warnings\n",
    "warnings.filterwarnings(\"ignore\")"
   ]
  },
  {
   "cell_type": "code",
   "execution_count": null,
   "id": "available-dallas",
   "metadata": {
    "execution": {
     "iopub.execute_input": "2021-05-27T15:26:20.458147Z",
     "iopub.status.busy": "2021-05-27T15:26:20.457492Z",
     "iopub.status.idle": "2021-05-27T15:26:20.588135Z",
     "shell.execute_reply": "2021-05-27T15:26:20.587461Z",
     "shell.execute_reply.started": "2021-05-20T17:11:47.666709Z"
    },
    "id": "available-dallas",
    "papermill": {
     "duration": 0.160881,
     "end_time": "2021-05-27T15:26:20.588273",
     "exception": false,
     "start_time": "2021-05-27T15:26:20.427392",
     "status": "completed"
    },
    "tags": []
   },
   "outputs": [],
   "source": [
    "df = pd.read_csv('nasa.csv',\n",
    "                 parse_dates=['Close Approach Date', 'Orbit Determination Date', 'Epoch Date Close Approach'])"
   ]
  },
  {
   "cell_type": "code",
   "execution_count": null,
   "id": "subjective-gasoline",
   "metadata": {
    "execution": {
     "iopub.execute_input": "2021-05-27T15:26:20.642779Z",
     "iopub.status.busy": "2021-05-27T15:26:20.642164Z",
     "iopub.status.idle": "2021-05-27T15:26:20.645494Z",
     "shell.execute_reply": "2021-05-27T15:26:20.646014Z",
     "shell.execute_reply.started": "2021-05-20T17:11:47.748248Z"
    },
    "id": "subjective-gasoline",
    "papermill": {
     "duration": 0.031838,
     "end_time": "2021-05-27T15:26:20.646184",
     "exception": false,
     "start_time": "2021-05-27T15:26:20.614346",
     "status": "completed"
    },
    "tags": []
   },
   "outputs": [],
   "source": [
    "# Fixing seed for reproducibility\n",
    "seed = 1234"
   ]
  },
  {
   "cell_type": "markdown",
   "id": "directed-reviewer",
   "metadata": {
    "id": "directed-reviewer",
    "papermill": {
     "duration": 0.025062,
     "end_time": "2021-05-27T15:26:20.696619",
     "exception": false,
     "start_time": "2021-05-27T15:26:20.671557",
     "status": "completed"
    },
    "tags": []
   },
   "source": [
    "# PRE-PROCESSING"
   ]
  },
  {
   "cell_type": "markdown",
   "id": "mexican-summit",
   "metadata": {
    "id": "mexican-summit",
    "papermill": {
     "duration": 0.024854,
     "end_time": "2021-05-27T15:26:20.748346",
     "exception": false,
     "start_time": "2021-05-27T15:26:20.723492",
     "status": "completed"
    },
    "tags": []
   },
   "source": [
    "# Step 1: Data Inspection"
   ]
  },
  {
   "cell_type": "code",
   "execution_count": null,
   "id": "flexible-helena",
   "metadata": {
    "colab": {
     "base_uri": "https://localhost:8080/",
     "height": 351
    },
    "execution": {
     "iopub.execute_input": "2021-05-27T15:26:20.802092Z",
     "iopub.status.busy": "2021-05-27T15:26:20.801427Z",
     "iopub.status.idle": "2021-05-27T15:26:20.840300Z",
     "shell.execute_reply": "2021-05-27T15:26:20.840799Z",
     "shell.execute_reply.started": "2021-05-20T17:11:47.753981Z"
    },
    "id": "flexible-helena",
    "outputId": "37727e88-abfe-4619-e1fb-6d918ce0e4f8",
    "papermill": {
     "duration": 0.067382,
     "end_time": "2021-05-27T15:26:20.840986",
     "exception": false,
     "start_time": "2021-05-27T15:26:20.773604",
     "status": "completed"
    },
    "tags": []
   },
   "outputs": [],
   "source": [
    "print(df.shape)\n",
    "df.head()"
   ]
  },
  {
   "cell_type": "code",
   "execution_count": null,
   "id": "hearing-scheduling",
   "metadata": {
    "colab": {
     "base_uri": "https://localhost:8080/"
    },
    "execution": {
     "iopub.execute_input": "2021-05-27T15:26:20.901660Z",
     "iopub.status.busy": "2021-05-27T15:26:20.901047Z",
     "iopub.status.idle": "2021-05-27T15:26:20.919971Z",
     "shell.execute_reply": "2021-05-27T15:26:20.920478Z",
     "shell.execute_reply.started": "2021-05-20T17:11:47.798161Z"
    },
    "id": "hearing-scheduling",
    "outputId": "1c671ec7-598f-45e0-f032-09bb92a41f74",
    "papermill": {
     "duration": 0.053094,
     "end_time": "2021-05-27T15:26:20.920655",
     "exception": false,
     "start_time": "2021-05-27T15:26:20.867561",
     "status": "completed"
    },
    "tags": []
   },
   "outputs": [],
   "source": [
    "df.info()"
   ]
  },
  {
   "cell_type": "markdown",
   "id": "7cfe528e",
   "metadata": {
    "id": "7cfe528e",
    "papermill": {
     "duration": 0.062717,
     "end_time": "2021-10-22T19:45:57.246983",
     "exception": false,
     "start_time": "2021-10-22T19:45:57.184266",
     "status": "completed"
    },
    "tags": []
   },
   "source": [
    "## Correlation among the variables"
   ]
  },
  {
   "cell_type": "code",
   "execution_count": null,
   "id": "69a867b4",
   "metadata": {
    "colab": {
     "base_uri": "https://localhost:8080/",
     "height": 1000
    },
    "execution": {
     "iopub.execute_input": "2021-10-22T19:45:57.385319Z",
     "iopub.status.busy": "2021-10-22T19:45:57.384607Z",
     "iopub.status.idle": "2021-10-22T19:45:58.554608Z",
     "shell.execute_reply": "2021-10-22T19:45:58.555115Z",
     "shell.execute_reply.started": "2021-10-22T19:39:29.997971Z"
    },
    "id": "69a867b4",
    "outputId": "dea12e3c-430c-4432-e48b-82f94147d85e",
    "papermill": {
     "duration": 1.242978,
     "end_time": "2021-10-22T19:45:58.555286",
     "exception": false,
     "start_time": "2021-10-22T19:45:57.312308",
     "status": "completed"
    },
    "tags": []
   },
   "outputs": [],
   "source": [
    "sns.set(style='darkgrid')\n",
    "plt.figure(figsize=(10, 10))\n",
    "sns.heatmap(df.corr())\n",
    "plt.show()"
   ]
  },
  {
   "cell_type": "code",
   "execution_count": null,
   "id": "pointed-fantasy",
   "metadata": {
    "colab": {
     "base_uri": "https://localhost:8080/",
     "height": 428
    },
    "execution": {
     "iopub.execute_input": "2021-05-27T15:26:20.979649Z",
     "iopub.status.busy": "2021-05-27T15:26:20.978719Z",
     "iopub.status.idle": "2021-05-27T15:26:21.117305Z",
     "shell.execute_reply": "2021-05-27T15:26:21.117875Z",
     "shell.execute_reply.started": "2021-05-20T17:11:47.825347Z"
    },
    "id": "pointed-fantasy",
    "outputId": "6dbe02a8-a94c-4213-e1ba-1258351105f5",
    "papermill": {
     "duration": 0.17007,
     "end_time": "2021-05-27T15:26:21.118068",
     "exception": false,
     "start_time": "2021-05-27T15:26:20.947998",
     "status": "completed"
    },
    "tags": []
   },
   "outputs": [],
   "source": [
    "df.describe()"
   ]
  },
  {
   "cell_type": "markdown",
   "id": "gorgeous-startup",
   "metadata": {
    "id": "gorgeous-startup",
    "papermill": {
     "duration": 0.027859,
     "end_time": "2021-05-27T15:26:21.174248",
     "exception": false,
     "start_time": "2021-05-27T15:26:21.146389",
     "status": "completed"
    },
    "tags": []
   },
   "source": [
    "# Step 2: Check Missing Values"
   ]
  },
  {
   "cell_type": "code",
   "execution_count": null,
   "id": "heard-selection",
   "metadata": {
    "colab": {
     "base_uri": "https://localhost:8080/"
    },
    "execution": {
     "iopub.execute_input": "2021-05-27T15:26:21.236297Z",
     "iopub.status.busy": "2021-05-27T15:26:21.235622Z",
     "iopub.status.idle": "2021-05-27T15:26:22.253264Z",
     "shell.execute_reply": "2021-05-27T15:26:22.253759Z",
     "shell.execute_reply.started": "2021-05-20T17:11:47.940706Z"
    },
    "id": "heard-selection",
    "outputId": "83c1939c-e0b9-4402-d671-1f5666747a52",
    "papermill": {
     "duration": 1.052109,
     "end_time": "2021-05-27T15:26:22.253949",
     "exception": false,
     "start_time": "2021-05-27T15:26:21.201840",
     "status": "completed"
    },
    "tags": []
   },
   "outputs": [],
   "source": [
    "# Check for missing values\n",
    "print(df.isnull().sum())"
   ]
  },
  {
   "cell_type": "markdown",
   "id": "logical-compatibility",
   "metadata": {
    "id": "logical-compatibility",
    "papermill": {
     "duration": 0.030907,
     "end_time": "2021-05-27T15:26:22.316568",
     "exception": false,
     "start_time": "2021-05-27T15:26:22.285661",
     "status": "completed"
    },
    "tags": []
   },
   "source": [
    "# Step 3: Imputing"
   ]
  },
  {
   "cell_type": "markdown",
   "id": "double-stake",
   "metadata": {
    "id": "double-stake",
    "papermill": {
     "duration": 0.030903,
     "end_time": "2021-05-27T15:26:22.378467",
     "exception": false,
     "start_time": "2021-05-27T15:26:22.347564",
     "status": "completed"
    },
    "tags": []
   },
   "source": [
    "This step is not necessary for this specific dataset, as there are no missing values."
   ]
  },
  {
   "cell_type": "markdown",
   "id": "refined-ceremony",
   "metadata": {
    "id": "refined-ceremony",
    "papermill": {
     "duration": 0.030778,
     "end_time": "2021-05-27T15:26:22.440323",
     "exception": false,
     "start_time": "2021-05-27T15:26:22.409545",
     "status": "completed"
    },
    "tags": []
   },
   "source": [
    "# Step 4: Dimensionality Reduction"
   ]
  },
  {
   "cell_type": "code",
   "execution_count": null,
   "id": "manual-collector",
   "metadata": {
    "colab": {
     "base_uri": "https://localhost:8080/",
     "height": 862
    },
    "execution": {
     "iopub.execute_input": "2021-05-27T15:26:28.344336Z",
     "iopub.status.busy": "2021-05-27T15:26:28.343570Z",
     "iopub.status.idle": "2021-05-27T15:26:30.692725Z",
     "shell.execute_reply": "2021-05-27T15:26:30.693287Z",
     "shell.execute_reply.started": "2021-05-20T17:11:55.025919Z"
    },
    "id": "manual-collector",
    "outputId": "f855429d-12ff-4ef6-fa11-0834d4b010ce",
    "papermill": {
     "duration": 2.407853,
     "end_time": "2021-05-27T15:26:30.693462",
     "exception": false,
     "start_time": "2021-05-27T15:26:28.285609",
     "status": "completed"
    },
    "tags": []
   },
   "outputs": [],
   "source": [
    "# Dropping completely correlated features and datetime features\n",
    "df = df.drop(['Est Dia in M(min)', 'Est Dia in M(max)', 'Est Dia in Miles(min)', 'Est Dia in Miles(max)', 'Est Dia in Feet(min)', 'Est Dia in Feet(max)', 'Est Dia in KM(max)',\n",
    "              'Relative Velocity km per sec', 'Miles per hour',\n",
    "              'Miss Dist.(Astronomical)', 'Miss Dist.(lunar)', 'Miss Dist.(miles)',\n",
    "              'Semi Major Axis',\n",
    "              'Neo Reference ID', 'Name',\n",
    "              'Close Approach Date', 'Epoch Date Close Approach', 'Orbit ID', 'Orbit Determination Date', 'Epoch Osculation','Perihelion Time'],axis=1)\n",
    "\n",
    "# Plotting feature correlation with reduced dataset\n",
    "sns.set(rc={'figure.figsize':(30,20)})\n",
    "sns.heatmap(df.corr())\n",
    "plt.show()\n",
    "plt.close()"
   ]
  },
  {
   "cell_type": "code",
   "execution_count": null,
   "id": "bd87f088",
   "metadata": {
    "colab": {
     "base_uri": "https://localhost:8080/",
     "height": 846
    },
    "execution": {
     "iopub.execute_input": "2021-10-22T19:45:59.908038Z",
     "iopub.status.busy": "2021-10-22T19:45:59.907115Z",
     "iopub.status.idle": "2021-10-22T19:46:00.275094Z",
     "shell.execute_reply": "2021-10-22T19:46:00.274573Z",
     "shell.execute_reply.started": "2021-10-22T19:39:32.067577Z"
    },
    "id": "bd87f088",
    "outputId": "4f1dcec6-0442-4be2-e51c-b830a519a728",
    "papermill": {
     "duration": 0.445333,
     "end_time": "2021-10-22T19:46:00.275253",
     "exception": false,
     "start_time": "2021-10-22T19:45:59.829920",
     "status": "completed"
    },
    "tags": []
   },
   "outputs": [],
   "source": [
    "# To get a more clear picture of the correlation with Hazardous Nature\n",
    "df.corr()['Hazardous'][:-1].sort_values().plot(kind='bar')\n",
    "plt.show()"
   ]
  },
  {
   "cell_type": "markdown",
   "id": "97a9089c",
   "metadata": {
    "id": "97a9089c",
    "papermill": {
     "duration": 0.071264,
     "end_time": "2021-10-22T19:46:00.418936",
     "exception": false,
     "start_time": "2021-10-22T19:46:00.347672",
     "status": "completed"
    },
    "tags": []
   },
   "source": [
    "# Exploratory Data Analysis"
   ]
  },
  {
   "cell_type": "markdown",
   "id": "13975075",
   "metadata": {
    "id": "13975075",
    "papermill": {
     "duration": 0.071588,
     "end_time": "2021-10-22T19:46:00.562269",
     "exception": false,
     "start_time": "2021-10-22T19:46:00.490681",
     "status": "completed"
    },
    "tags": []
   },
   "source": [
    "Hazardous Nature  \n",
    "Is the asteroid hazardous? (True or False)"
   ]
  },
  {
   "cell_type": "code",
   "execution_count": null,
   "id": "2c3c9b32",
   "metadata": {
    "colab": {
     "base_uri": "https://localhost:8080/",
     "height": 1000
    },
    "execution": {
     "iopub.execute_input": "2021-10-22T19:46:00.715220Z",
     "iopub.status.busy": "2021-10-22T19:46:00.714523Z",
     "iopub.status.idle": "2021-10-22T19:46:00.953054Z",
     "shell.execute_reply": "2021-10-22T19:46:00.952470Z",
     "shell.execute_reply.started": "2021-10-22T19:39:32.493593Z"
    },
    "id": "2c3c9b32",
    "outputId": "0a7902d9-8cd0-4ecb-d786-14724c597b79",
    "papermill": {
     "duration": 0.319118,
     "end_time": "2021-10-22T19:46:00.953196",
     "exception": false,
     "start_time": "2021-10-22T19:46:00.634078",
     "status": "completed"
    },
    "tags": []
   },
   "outputs": [],
   "source": [
    "# get the values\n",
    "print(df['Hazardous'].value_counts())\n",
    "print('\\n')\n",
    "\n",
    "# plot\n",
    "lab = 'False','True'\n",
    "plt.pie(df['Hazardous'].value_counts(), labels = lab, colors = ['green','red'],\n",
    "        autopct='%1.1f%%')\n",
    "plt.title('Hazardous Nature')\n",
    "plt.show()"
   ]
  },
  {
   "cell_type": "markdown",
   "id": "309b74ab",
   "metadata": {
    "id": "309b74ab",
    "papermill": {
     "duration": 0.07341,
     "end_time": "2021-10-22T19:46:01.099398",
     "exception": false,
     "start_time": "2021-10-22T19:46:01.025988",
     "status": "completed"
    },
    "tags": []
   },
   "source": [
    "The datset contains 16.1% of hazardous asteroids and 83.9% of non-hazardous asteroids."
   ]
  },
  {
   "cell_type": "markdown",
   "id": "4e732054",
   "metadata": {
    "id": "4e732054",
    "papermill": {
     "duration": 0.072132,
     "end_time": "2021-10-22T19:46:01.244322",
     "exception": false,
     "start_time": "2021-10-22T19:46:01.172190",
     "status": "completed"
    },
    "tags": []
   },
   "source": [
    "Orbit Uncertainity  \n",
    "A measure of the uncertainty ('measurement errors') in the calculated orbit"
   ]
  },
  {
   "cell_type": "code",
   "execution_count": null,
   "id": "ff8c0d56",
   "metadata": {
    "colab": {
     "base_uri": "https://localhost:8080/",
     "height": 768
    },
    "execution": {
     "iopub.execute_input": "2021-10-22T19:46:01.399388Z",
     "iopub.status.busy": "2021-10-22T19:46:01.398718Z",
     "iopub.status.idle": "2021-10-22T19:46:02.327435Z",
     "shell.execute_reply": "2021-10-22T19:46:02.326820Z",
     "shell.execute_reply.started": "2021-10-22T19:39:32.609439Z"
    },
    "id": "ff8c0d56",
    "outputId": "d3bcbd86-09fc-4981-b474-4effe2571ebe",
    "papermill": {
     "duration": 1.010889,
     "end_time": "2021-10-22T19:46:02.327610",
     "exception": false,
     "start_time": "2021-10-22T19:46:01.316721",
     "status": "completed"
    },
    "tags": []
   },
   "outputs": [],
   "source": [
    "import plotly.express as px\n",
    "# get the values\n",
    "print(df['Orbit Uncertainity'].value_counts())\n",
    "print('\\n')\n",
    "\n",
    "# plot\n",
    "df1 = df.groupby([\"Orbit Uncertainity\"]).count().reset_index()\n",
    "\n",
    "fig = px.bar(df1,\n",
    "             y=df.groupby([\"Orbit Uncertainity\"]).size()/len(df)*100,\n",
    "             x=\"Orbit Uncertainity\")\n",
    "fig.update_layout(yaxis_title='percentage',\n",
    "                  title_text='Orbit Uncertainity')\n",
    "fig.show()"
   ]
  },
  {
   "cell_type": "markdown",
   "id": "4052eda6",
   "metadata": {
    "id": "4052eda6",
    "papermill": {
     "duration": 0.073818,
     "end_time": "2021-10-22T19:46:02.477202",
     "exception": false,
     "start_time": "2021-10-22T19:46:02.403384",
     "status": "completed"
    },
    "tags": []
   },
   "source": [
    "Orbit Uncertainity vs. Hazardous Nature"
   ]
  },
  {
   "cell_type": "code",
   "execution_count": null,
   "id": "d48e96c0",
   "metadata": {
    "colab": {
     "base_uri": "https://localhost:8080/",
     "height": 778
    },
    "execution": {
     "iopub.execute_input": "2021-10-22T19:46:02.632054Z",
     "iopub.status.busy": "2021-10-22T19:46:02.631323Z",
     "iopub.status.idle": "2021-10-22T19:46:02.953014Z",
     "shell.execute_reply": "2021-10-22T19:46:02.952442Z",
     "shell.execute_reply.started": "2021-10-22T19:39:32.687608Z"
    },
    "id": "d48e96c0",
    "outputId": "4b1c0bfe-ca1f-4699-9d29-414571445b10",
    "papermill": {
     "duration": 0.401932,
     "end_time": "2021-10-22T19:46:02.953165",
     "exception": false,
     "start_time": "2021-10-22T19:46:02.551233",
     "status": "completed"
    },
    "tags": []
   },
   "outputs": [],
   "source": [
    "# plot\n",
    "df.groupby('Orbit Uncertainity')['Hazardous'].value_counts(normalize=True).unstack('Hazardous').plot.bar(stacked=True, title='Orbit Uncertainity vs. Hazardous Nature')\n",
    "plt.show()"
   ]
  },
  {
   "cell_type": "markdown",
   "id": "193e4e9b",
   "metadata": {
    "id": "193e4e9b",
    "papermill": {
     "duration": 0.075706,
     "end_time": "2021-10-22T19:46:03.104208",
     "exception": false,
     "start_time": "2021-10-22T19:46:03.028502",
     "status": "completed"
    },
    "tags": []
   },
   "source": [
    "Absolute Magnitude  \n",
    "Measure of the luminosity of an asteroid, on an inverse logarithmic astronomical magnitude scale."
   ]
  },
  {
   "cell_type": "code",
   "execution_count": null,
   "id": "3f6d43e8",
   "metadata": {
    "colab": {
     "base_uri": "https://localhost:8080/",
     "height": 772
    },
    "execution": {
     "iopub.execute_input": "2021-10-22T19:46:03.291274Z",
     "iopub.status.busy": "2021-10-22T19:46:03.290547Z",
     "iopub.status.idle": "2021-10-22T19:46:03.591259Z",
     "shell.execute_reply": "2021-10-22T19:46:03.590738Z",
     "shell.execute_reply.started": "2021-10-22T19:39:33.074784Z"
    },
    "id": "3f6d43e8",
    "outputId": "d06fe5fa-fd31-4260-d8a1-c5c211eacb43",
    "papermill": {
     "duration": 0.408989,
     "end_time": "2021-10-22T19:46:03.591403",
     "exception": false,
     "start_time": "2021-10-22T19:46:03.182414",
     "status": "completed"
    },
    "tags": []
   },
   "outputs": [],
   "source": [
    "# plot\n",
    "sns.histplot(df['Absolute Magnitude']).set_title('Absolute Magnitude')\n",
    "plt.show()"
   ]
  },
  {
   "cell_type": "markdown",
   "id": "79c6ea07",
   "metadata": {
    "id": "79c6ea07",
    "papermill": {
     "duration": 0.076154,
     "end_time": "2021-10-22T19:46:03.745140",
     "exception": false,
     "start_time": "2021-10-22T19:46:03.668986",
     "status": "completed"
    },
    "tags": []
   },
   "source": [
    "Absolute Magnitude vs. Hazardous Nature"
   ]
  },
  {
   "cell_type": "code",
   "execution_count": null,
   "id": "adb7a9d9",
   "metadata": {
    "colab": {
     "base_uri": "https://localhost:8080/",
     "height": 775
    },
    "execution": {
     "iopub.execute_input": "2021-10-22T19:46:03.904630Z",
     "iopub.status.busy": "2021-10-22T19:46:03.903568Z",
     "iopub.status.idle": "2021-10-22T19:46:04.103206Z",
     "shell.execute_reply": "2021-10-22T19:46:04.103735Z",
     "shell.execute_reply.started": "2021-10-22T19:39:33.478854Z"
    },
    "id": "adb7a9d9",
    "outputId": "4fd2a449-b1a7-4d3d-9f22-642e121499a4",
    "papermill": {
     "duration": 0.281946,
     "end_time": "2021-10-22T19:46:04.103912",
     "exception": false,
     "start_time": "2021-10-22T19:46:03.821966",
     "status": "completed"
    },
    "tags": []
   },
   "outputs": [],
   "source": [
    "# plot\n",
    "sns.boxplot(x=\"Hazardous\", y=\"Absolute Magnitude\",data=df,palette=('green','red')).set_title('Absolute Magnitude vs. Hazardous Nature')\n",
    "plt.show()"
   ]
  },
  {
   "cell_type": "markdown",
   "id": "8d7b4780",
   "metadata": {
    "id": "8d7b4780",
    "papermill": {
     "duration": 0.076225,
     "end_time": "2021-10-22T19:46:04.257158",
     "exception": false,
     "start_time": "2021-10-22T19:46:04.180933",
     "status": "completed"
    },
    "tags": []
   },
   "source": [
    "Minimum Orbit Intersection  \n",
    "The closest distance between Earth and the asteroid in their respective orbits (in astronomical units)"
   ]
  },
  {
   "cell_type": "code",
   "execution_count": null,
   "id": "c8ffc8c7",
   "metadata": {
    "colab": {
     "base_uri": "https://localhost:8080/",
     "height": 768
    },
    "execution": {
     "iopub.execute_input": "2021-10-22T19:46:04.420941Z",
     "iopub.status.busy": "2021-10-22T19:46:04.415100Z",
     "iopub.status.idle": "2021-10-22T19:46:04.770969Z",
     "shell.execute_reply": "2021-10-22T19:46:04.770355Z",
     "shell.execute_reply.started": "2021-10-22T19:39:33.723587Z"
    },
    "id": "c8ffc8c7",
    "outputId": "a87966e0-c6da-4dd8-89bc-6e39fce7dfae",
    "papermill": {
     "duration": 0.437151,
     "end_time": "2021-10-22T19:46:04.771134",
     "exception": false,
     "start_time": "2021-10-22T19:46:04.333983",
     "status": "completed"
    },
    "tags": []
   },
   "outputs": [],
   "source": [
    "# plot\n",
    "sns.histplot(df['Minimum Orbit Intersection']).set_title('Minimum Orbit Intersection')\n",
    "plt.show()"
   ]
  },
  {
   "cell_type": "markdown",
   "id": "16b47958",
   "metadata": {
    "id": "16b47958",
    "papermill": {
     "duration": 0.076982,
     "end_time": "2021-10-22T19:46:04.938317",
     "exception": false,
     "start_time": "2021-10-22T19:46:04.861335",
     "status": "completed"
    },
    "tags": []
   },
   "source": [
    "Minimum Orbit Intersection vs. Hazardous Nature"
   ]
  },
  {
   "cell_type": "code",
   "execution_count": null,
   "id": "11331682",
   "metadata": {
    "colab": {
     "base_uri": "https://localhost:8080/",
     "height": 773
    },
    "execution": {
     "iopub.execute_input": "2021-10-22T19:46:05.099954Z",
     "iopub.status.busy": "2021-10-22T19:46:05.099305Z",
     "iopub.status.idle": "2021-10-22T19:46:05.311784Z",
     "shell.execute_reply": "2021-10-22T19:46:05.311260Z",
     "shell.execute_reply.started": "2021-10-22T19:39:34.132296Z"
    },
    "id": "11331682",
    "outputId": "b66c2dda-2249-4831-b904-04e10a227a93",
    "papermill": {
     "duration": 0.294467,
     "end_time": "2021-10-22T19:46:05.311933",
     "exception": false,
     "start_time": "2021-10-22T19:46:05.017466",
     "status": "completed"
    },
    "tags": []
   },
   "outputs": [],
   "source": [
    "# plot\n",
    "sns.boxplot(x=\"Hazardous\", y=\"Minimum Orbit Intersection\",data=df,palette=('green','red')).set_title('Minimum Orbit Intersection vs. Hazardous Nature')\n",
    "plt.show()"
   ]
  },
  {
   "cell_type": "markdown",
   "id": "88299b0a",
   "metadata": {
    "id": "88299b0a",
    "papermill": {
     "duration": 0.078279,
     "end_time": "2021-10-22T19:46:05.469513",
     "exception": false,
     "start_time": "2021-10-22T19:46:05.391234",
     "status": "completed"
    },
    "tags": []
   },
   "source": [
    "Perihelion Distance  \n",
    "Distance of point in asteroid's orbit which is closest to the Sun"
   ]
  },
  {
   "cell_type": "code",
   "execution_count": null,
   "id": "436a194a",
   "metadata": {
    "colab": {
     "base_uri": "https://localhost:8080/",
     "height": 772
    },
    "execution": {
     "iopub.execute_input": "2021-10-22T19:46:05.629311Z",
     "iopub.status.busy": "2021-10-22T19:46:05.628704Z",
     "iopub.status.idle": "2021-10-22T19:46:05.948374Z",
     "shell.execute_reply": "2021-10-22T19:46:05.949196Z",
     "shell.execute_reply.started": "2021-10-22T19:39:34.390592Z"
    },
    "id": "436a194a",
    "outputId": "a68e7151-9b64-4fc6-96dc-8a1ec93c804a",
    "papermill": {
     "duration": 0.401712,
     "end_time": "2021-10-22T19:46:05.949412",
     "exception": false,
     "start_time": "2021-10-22T19:46:05.547700",
     "status": "completed"
    },
    "tags": []
   },
   "outputs": [],
   "source": [
    "# plot\n",
    "sns.histplot(df['Perihelion Distance']).set_title('Perihelion Distance')\n",
    "plt.show()"
   ]
  },
  {
   "cell_type": "markdown",
   "id": "5dc7a179",
   "metadata": {
    "id": "5dc7a179",
    "papermill": {
     "duration": 0.080408,
     "end_time": "2021-10-22T19:46:06.110051",
     "exception": false,
     "start_time": "2021-10-22T19:46:06.029643",
     "status": "completed"
    },
    "tags": []
   },
   "source": [
    "Perihelion Distance vs. Hazardous Nature"
   ]
  },
  {
   "cell_type": "code",
   "execution_count": null,
   "id": "88c6873e",
   "metadata": {
    "colab": {
     "base_uri": "https://localhost:8080/",
     "height": 773
    },
    "execution": {
     "iopub.execute_input": "2021-10-22T19:46:06.276494Z",
     "iopub.status.busy": "2021-10-22T19:46:06.275464Z",
     "iopub.status.idle": "2021-10-22T19:46:06.481384Z",
     "shell.execute_reply": "2021-10-22T19:46:06.481941Z",
     "shell.execute_reply.started": "2021-10-22T19:39:34.737045Z"
    },
    "id": "88c6873e",
    "outputId": "30a3a9ac-b999-4e85-c201-d42aa641fe30",
    "papermill": {
     "duration": 0.292444,
     "end_time": "2021-10-22T19:46:06.482121",
     "exception": false,
     "start_time": "2021-10-22T19:46:06.189677",
     "status": "completed"
    },
    "tags": []
   },
   "outputs": [],
   "source": [
    "# plot\n",
    "sns.boxplot(x=\"Hazardous\", y=\"Perihelion Distance\",data=df,palette=('green','red')).set_title('Perihelion Distance vs. Hazardous Nature')\n",
    "plt.show()"
   ]
  },
  {
   "cell_type": "markdown",
   "id": "58fd72bd",
   "metadata": {
    "id": "58fd72bd",
    "papermill": {
     "duration": 0.080726,
     "end_time": "2021-10-22T19:46:06.643482",
     "exception": false,
     "start_time": "2021-10-22T19:46:06.562756",
     "status": "completed"
    },
    "tags": []
   },
   "source": [
    "Est Dia in KM(min)  \n",
    "Minimum estimated diameter of the asteroid"
   ]
  },
  {
   "cell_type": "code",
   "execution_count": null,
   "id": "1a70ebd9",
   "metadata": {
    "colab": {
     "base_uri": "https://localhost:8080/",
     "height": 769
    },
    "execution": {
     "iopub.execute_input": "2021-10-22T19:46:06.814724Z",
     "iopub.status.busy": "2021-10-22T19:46:06.813988Z",
     "iopub.status.idle": "2021-10-22T19:46:08.341172Z",
     "shell.execute_reply": "2021-10-22T19:46:08.340589Z",
     "shell.execute_reply.started": "2021-10-22T19:39:34.931489Z"
    },
    "id": "1a70ebd9",
    "outputId": "9c0bcade-ea1d-4ad3-e20c-3262c9a21521",
    "papermill": {
     "duration": 1.61712,
     "end_time": "2021-10-22T19:46:08.341317",
     "exception": false,
     "start_time": "2021-10-22T19:46:06.724197",
     "status": "completed"
    },
    "tags": []
   },
   "outputs": [],
   "source": [
    "# plot\n",
    "sns.histplot(df['Est Dia in KM(min)']).set_title('Estimated diameter(min)')\n",
    "plt.show()"
   ]
  },
  {
   "cell_type": "markdown",
   "id": "3cc3001d",
   "metadata": {
    "id": "3cc3001d",
    "papermill": {
     "duration": 0.080588,
     "end_time": "2021-10-22T19:46:08.506768",
     "exception": false,
     "start_time": "2021-10-22T19:46:08.426180",
     "status": "completed"
    },
    "tags": []
   },
   "source": [
    "Est Dia in KM(min) vs. Hazardous Nature"
   ]
  },
  {
   "cell_type": "code",
   "execution_count": null,
   "id": "8da81693",
   "metadata": {
    "colab": {
     "base_uri": "https://localhost:8080/",
     "height": 775
    },
    "execution": {
     "iopub.execute_input": "2021-10-22T19:46:08.673609Z",
     "iopub.status.busy": "2021-10-22T19:46:08.672587Z",
     "iopub.status.idle": "2021-10-22T19:46:08.849573Z",
     "shell.execute_reply": "2021-10-22T19:46:08.850099Z",
     "shell.execute_reply.started": "2021-10-22T19:39:36.870890Z"
    },
    "id": "8da81693",
    "outputId": "03736e93-2232-48f5-c6af-77533635ec38",
    "papermill": {
     "duration": 0.262825,
     "end_time": "2021-10-22T19:46:08.850278",
     "exception": false,
     "start_time": "2021-10-22T19:46:08.587453",
     "status": "completed"
    },
    "tags": []
   },
   "outputs": [],
   "source": [
    "# plot\n",
    "sns.boxplot(x=\"Hazardous\", y=\"Est Dia in KM(min)\",data=df,palette=('green','red')).set_title('Estimated diameter(min) vs. Hazardous Nature')\n",
    "plt.show()"
   ]
  },
  {
   "cell_type": "markdown",
   "id": "0d7ab4b8",
   "metadata": {
    "id": "0d7ab4b8",
    "papermill": {
     "duration": 0.08133,
     "end_time": "2021-10-22T19:46:09.013208",
     "exception": false,
     "start_time": "2021-10-22T19:46:08.931878",
     "status": "completed"
    },
    "tags": []
   },
   "source": [
    "Eccentricity  \n",
    "A value which specifies by how much the asteroid's orbit deviates from a perfect circle"
   ]
  },
  {
   "cell_type": "code",
   "execution_count": null,
   "id": "020cd263",
   "metadata": {
    "colab": {
     "base_uri": "https://localhost:8080/",
     "height": 772
    },
    "execution": {
     "iopub.execute_input": "2021-10-22T19:46:09.181406Z",
     "iopub.status.busy": "2021-10-22T19:46:09.180786Z",
     "iopub.status.idle": "2021-10-22T19:46:09.491793Z",
     "shell.execute_reply": "2021-10-22T19:46:09.492256Z",
     "shell.execute_reply.started": "2021-10-22T19:39:37.083522Z"
    },
    "id": "020cd263",
    "outputId": "9ef9c19f-232a-46f3-e323-6be9e7aa978f",
    "papermill": {
     "duration": 0.396389,
     "end_time": "2021-10-22T19:46:09.492434",
     "exception": false,
     "start_time": "2021-10-22T19:46:09.096045",
     "status": "completed"
    },
    "tags": []
   },
   "outputs": [],
   "source": [
    "# plot\n",
    "sns.histplot(df['Eccentricity']).set_title('Eccentricity')\n",
    "plt.show()"
   ]
  },
  {
   "cell_type": "markdown",
   "id": "55baf7e8",
   "metadata": {
    "id": "55baf7e8",
    "papermill": {
     "duration": 0.085695,
     "end_time": "2021-10-22T19:46:09.660457",
     "exception": false,
     "start_time": "2021-10-22T19:46:09.574762",
     "status": "completed"
    },
    "tags": []
   },
   "source": [
    "Eccentricity vs. Hazardous Nature"
   ]
  },
  {
   "cell_type": "code",
   "execution_count": null,
   "id": "bd7b211c",
   "metadata": {
    "colab": {
     "base_uri": "https://localhost:8080/",
     "height": 773
    },
    "execution": {
     "iopub.execute_input": "2021-10-22T19:46:09.830363Z",
     "iopub.status.busy": "2021-10-22T19:46:09.829300Z",
     "iopub.status.idle": "2021-10-22T19:46:10.037457Z",
     "shell.execute_reply": "2021-10-22T19:46:10.038028Z",
     "shell.execute_reply.started": "2021-10-22T19:39:37.434720Z"
    },
    "id": "bd7b211c",
    "outputId": "d8aadc05-0100-45bc-dced-d3494bd8eb2a",
    "papermill": {
     "duration": 0.294562,
     "end_time": "2021-10-22T19:46:10.038205",
     "exception": false,
     "start_time": "2021-10-22T19:46:09.743643",
     "status": "completed"
    },
    "tags": []
   },
   "outputs": [],
   "source": [
    "# plot\n",
    "sns.boxplot(x=\"Hazardous\", y=\"Eccentricity\",data=df,palette=('green','red')).set_title('Eccentricity vs. Hazardous Nature')\n",
    "plt.show()"
   ]
  },
  {
   "cell_type": "markdown",
   "id": "ebef2731",
   "metadata": {
    "id": "ebef2731",
    "papermill": {
     "duration": 0.083649,
     "end_time": "2021-10-22T19:46:10.205563",
     "exception": false,
     "start_time": "2021-10-22T19:46:10.121914",
     "status": "completed"
    },
    "tags": []
   },
   "source": [
    "Relative Velocity  \n",
    "Asteroid's velocity relative to earth"
   ]
  },
  {
   "cell_type": "code",
   "execution_count": null,
   "id": "ae40509c",
   "metadata": {
    "colab": {
     "base_uri": "https://localhost:8080/",
     "height": 772
    },
    "execution": {
     "iopub.execute_input": "2021-10-22T19:46:10.384661Z",
     "iopub.status.busy": "2021-10-22T19:46:10.383615Z",
     "iopub.status.idle": "2021-10-22T19:46:10.740693Z",
     "shell.execute_reply": "2021-10-22T19:46:10.741189Z",
     "shell.execute_reply.started": "2021-10-22T19:39:37.627162Z"
    },
    "id": "ae40509c",
    "outputId": "00121c6f-7c97-48fd-f3cd-0026aa027e63",
    "papermill": {
     "duration": 0.451423,
     "end_time": "2021-10-22T19:46:10.741360",
     "exception": false,
     "start_time": "2021-10-22T19:46:10.289937",
     "status": "completed"
    },
    "tags": []
   },
   "outputs": [],
   "source": [
    "# plot\n",
    "sns.histplot(df['Relative Velocity km per hr']).set_title('Relative Velocity')\n",
    "plt.show()"
   ]
  },
  {
   "cell_type": "markdown",
   "id": "705810b7",
   "metadata": {
    "id": "705810b7",
    "papermill": {
     "duration": 0.083637,
     "end_time": "2021-10-22T19:46:10.908945",
     "exception": false,
     "start_time": "2021-10-22T19:46:10.825308",
     "status": "completed"
    },
    "tags": []
   },
   "source": [
    "Relative Velocity vs. Hazardous Nature"
   ]
  },
  {
   "cell_type": "code",
   "execution_count": null,
   "id": "b07cea29",
   "metadata": {
    "colab": {
     "base_uri": "https://localhost:8080/",
     "height": 763
    },
    "execution": {
     "iopub.execute_input": "2021-10-22T19:46:11.084694Z",
     "iopub.status.busy": "2021-10-22T19:46:11.083793Z",
     "iopub.status.idle": "2021-10-22T19:46:11.308189Z",
     "shell.execute_reply": "2021-10-22T19:46:11.308761Z",
     "shell.execute_reply.started": "2021-10-22T19:39:38.013695Z"
    },
    "id": "b07cea29",
    "outputId": "ec355cea-3751-4bb9-b2e9-bbeb3effa139",
    "papermill": {
     "duration": 0.316254,
     "end_time": "2021-10-22T19:46:11.308940",
     "exception": false,
     "start_time": "2021-10-22T19:46:10.992686",
     "status": "completed"
    },
    "tags": []
   },
   "outputs": [],
   "source": [
    "# plot\n",
    "sns.boxplot(x=\"Hazardous\", y=\"Relative Velocity km per hr\",data=df,palette=('green','red')).set_title('Relative Velocity vs. Hazardous Nature')\n",
    "plt.show()"
   ]
  },
  {
   "cell_type": "markdown",
   "id": "laden-bonus",
   "metadata": {
    "id": "laden-bonus",
    "papermill": {
     "duration": 0.054234,
     "end_time": "2021-05-27T15:26:30.804839",
     "exception": false,
     "start_time": "2021-05-27T15:26:30.750605",
     "status": "completed"
    },
    "tags": []
   },
   "source": [
    "# Step 5: Categorical Feature Encoding"
   ]
  },
  {
   "cell_type": "code",
   "execution_count": null,
   "id": "mighty-education",
   "metadata": {
    "colab": {
     "base_uri": "https://localhost:8080/",
     "height": 860
    },
    "execution": {
     "iopub.execute_input": "2021-05-27T15:26:30.923528Z",
     "iopub.status.busy": "2021-05-27T15:26:30.922877Z",
     "iopub.status.idle": "2021-05-27T15:26:30.963401Z",
     "shell.execute_reply": "2021-05-27T15:26:30.962718Z",
     "shell.execute_reply.started": "2021-05-20T17:11:57.301024Z"
    },
    "id": "mighty-education",
    "outputId": "3c7d1d42-d2d4-4c35-a8cb-c77445d7b5d6",
    "papermill": {
     "duration": 0.101904,
     "end_time": "2021-05-27T15:26:30.963543",
     "exception": false,
     "start_time": "2021-05-27T15:26:30.861639",
     "status": "completed"
    },
    "tags": []
   },
   "outputs": [],
   "source": [
    "# Encoding the target variable\n",
    "l_enc = LabelEncoder()\n",
    "df['Hazardous'] = l_enc.fit_transform(df.Hazardous) \n",
    "print('Hazardous == True -> 1')\n",
    "print('Hazardous == False -> 0\\n')\n",
    "\n",
    "# Checking if the other categorical features need to be encoded\n",
    "print(df['Orbiting Body'].unique())\n",
    "print(df['Equinox'].unique())\n",
    "print('\\n')\n",
    "# Removing them since there is only a single value that is identical across all observations\n",
    "df = df.drop(['Orbiting Body', 'Equinox'], axis=1)\n",
    "\n",
    "# Check after all the changes\n",
    "print(df.info())\n",
    "df.head()"
   ]
  },
  {
   "cell_type": "markdown",
   "id": "convertible-burner",
   "metadata": {
    "id": "convertible-burner",
    "papermill": {
     "duration": 0.056742,
     "end_time": "2021-05-27T15:26:31.078279",
     "exception": false,
     "start_time": "2021-05-27T15:26:31.021537",
     "status": "completed"
    },
    "tags": []
   },
   "source": [
    "# Step 6: Train/Test Split"
   ]
  },
  {
   "cell_type": "code",
   "execution_count": null,
   "id": "circular-period",
   "metadata": {
    "execution": {
     "iopub.execute_input": "2021-05-27T15:26:31.194398Z",
     "iopub.status.busy": "2021-05-27T15:26:31.193692Z",
     "iopub.status.idle": "2021-05-27T15:26:31.207210Z",
     "shell.execute_reply": "2021-05-27T15:26:31.207768Z",
     "shell.execute_reply.started": "2021-05-20T17:11:57.348994Z"
    },
    "id": "circular-period",
    "papermill": {
     "duration": 0.073365,
     "end_time": "2021-05-27T15:26:31.207963",
     "exception": false,
     "start_time": "2021-05-27T15:26:31.134598",
     "status": "completed"
    },
    "tags": []
   },
   "outputs": [],
   "source": [
    "# Creating the Features/Label split as numpy arrays\n",
    "features = df.drop('Hazardous', axis=1).values\n",
    "label = df.Hazardous.values\n",
    "\n",
    "\n",
    "# Split the data into training, validation, and test sets\n",
    "training_features, val_features, training_label, val_label = train_test_split(features, label,\n",
    "                                                                                      test_size=0.1,\n",
    "                                                                                      stratify=label,\n",
    "                                                                                      random_state=seed)\n",
    "training_features, test_features, training_label, test_label = train_test_split(training_features, training_label,\n",
    "                                                                          test_size=0.2,\n",
    "                                                                          stratify=training_label,\n",
    "                                                                          random_state=seed)\n",
    "\n",
    "\n",
    "# Getting feature labels for future plotting\n",
    "df_graph = df.copy()\n",
    "feature_names = df_graph.drop('Hazardous', axis=1).columns.tolist()\n",
    "del df_graph"
   ]
  },
  {
   "cell_type": "code",
   "execution_count": null,
   "id": "yZiNTWQJU1iG",
   "metadata": {
    "colab": {
     "base_uri": "https://localhost:8080/"
    },
    "id": "yZiNTWQJU1iG",
    "outputId": "c6e0e4ce-5575-4f60-9a85-14b42e9d9569"
   },
   "outputs": [],
   "source": [
    "from sklearn.feature_selection import SelectKBest, f_classif\n",
    "from imblearn.over_sampling import SMOTE\n",
    "\n",
    "# Perform feature selection using SelectKBest and f_classif\n",
    "selector = SelectKBest(score_func=f_classif, k=5)  # Select the top 10 features\n",
    "selected_features = selector.fit_transform(training_features, training_label)\n",
    "selected_feature_indices = selector.get_support(indices=True)\n",
    "selected_feature_names = [feature_names[i] for i in selected_feature_indices]\n",
    "\n",
    "# Update training and test features with the selected features\n",
    "training_features = training_features[:, selected_feature_indices]\n",
    "test_features = test_features[:, selected_feature_indices]\n",
    "val_features = val_features[:, selected_feature_indices]\n",
    "\n",
    "# Print the selected feature names\n",
    "print('Selected Features:', selected_feature_names)\n"
   ]
  },
  {
   "cell_type": "code",
   "execution_count": null,
   "id": "m-Qzg7ZaVHAk",
   "metadata": {
    "colab": {
     "base_uri": "https://localhost:8080/"
    },
    "id": "m-Qzg7ZaVHAk",
    "outputId": "9c3d089e-f661-4ca7-bd2f-8304bc763889"
   },
   "outputs": [],
   "source": [
    "# Apply SMOTE to oversample the minority class\n",
    "smote = SMOTE(random_state=seed)\n",
    "training_features, training_label = smote.fit_resample(training_features, training_label)\n",
    "\n",
    "# Print the class distribution after oversampling\n",
    "print('Class Distribution after SMOTE:')\n",
    "print(pd.Series(training_label).value_counts())\n"
   ]
  },
  {
   "cell_type": "markdown",
   "id": "competent-tongue",
   "metadata": {
    "id": "competent-tongue",
    "papermill": {
     "duration": 0.056325,
     "end_time": "2021-05-27T15:26:31.320251",
     "exception": false,
     "start_time": "2021-05-27T15:26:31.263926",
     "status": "completed"
    },
    "tags": []
   },
   "source": [
    "# MODELS"
   ]
  },
  {
   "cell_type": "markdown",
   "id": "incorrect-channels",
   "metadata": {
    "id": "incorrect-channels",
    "papermill": {
     "duration": 0.057324,
     "end_time": "2021-05-27T15:26:31.434359",
     "exception": false,
     "start_time": "2021-05-27T15:26:31.377035",
     "status": "completed"
    },
    "tags": []
   },
   "source": [
    "# Logistic Regression"
   ]
  },
  {
   "cell_type": "code",
   "execution_count": null,
   "id": "actual-bronze",
   "metadata": {
    "colab": {
     "base_uri": "https://localhost:8080/"
    },
    "execution": {
     "iopub.execute_input": "2021-05-27T15:26:31.552427Z",
     "iopub.status.busy": "2021-05-27T15:26:31.551705Z",
     "iopub.status.idle": "2021-05-27T15:29:53.104936Z",
     "shell.execute_reply": "2021-05-27T15:29:53.105480Z",
     "shell.execute_reply.started": "2021-05-20T17:11:57.367603Z"
    },
    "id": "actual-bronze",
    "outputId": "012c6f24-5d0d-44f4-807f-226f275b1938",
    "papermill": {
     "duration": 201.613797,
     "end_time": "2021-05-27T15:29:53.105685",
     "exception": false,
     "start_time": "2021-05-27T15:26:31.491888",
     "status": "completed"
    },
    "tags": []
   },
   "outputs": [],
   "source": [
    "# Creating the pipeline\n",
    "logreg_pipe = Pipeline([('Scaling', StandardScaler()),\n",
    "                        ('LogReg', LogisticRegression())])\n",
    "\n",
    "# Creating hyperparameter options\n",
    "logreg_params = {'LogReg__C': np.arange(0, 10, 0.1),\n",
    "                 'LogReg__solver': ['newton-cg', 'lbfgs', 'liblinear', 'sag', 'saga'],\n",
    "                 'LogReg__penalty': ['l1', 'l2', 'elasticnet', 'none'],\n",
    "                 'LogReg__random_state': [seed]}\n",
    "\n",
    "# GrideSearcCV\n",
    "logreg_grid = GridSearchCV(estimator=logreg_pipe, param_grid=logreg_params,\n",
    "                           scoring='accuracy', cv=5)\n",
    "logreg_grid.fit(training_features, training_label)\n",
    "logreg_opt_param = logreg_grid.best_params_\n",
    "logreg_best_score = (logreg_grid.best_score_*100).round(2)\n",
    "logreg_best_est = logreg_grid.best_estimator_\n",
    "\n",
    "# Score on holdout data\n",
    "logreg_holdout_score = (logreg_grid.score(test_features, test_label)*100).round(2)\n",
    "\n",
    "print('Optimal Hyperparameters:')\n",
    "print(logreg_opt_param)\n",
    "print('Optimal Estimator:')\n",
    "print(logreg_best_est)\n",
    "print('\\n')\n",
    "print('Training Accuracy {}'.format(logreg_best_score))\n",
    "print('Testing Accuracy {}'.format(logreg_holdout_score))"
   ]
  },
  {
   "cell_type": "markdown",
   "id": "prostate-interim",
   "metadata": {
    "id": "prostate-interim",
    "papermill": {
     "duration": 0.057845,
     "end_time": "2021-05-27T15:29:53.220967",
     "exception": false,
     "start_time": "2021-05-27T15:29:53.163122",
     "status": "completed"
    },
    "tags": []
   },
   "source": [
    "# Decision Tree"
   ]
  },
  {
   "cell_type": "code",
   "execution_count": null,
   "id": "compound-species",
   "metadata": {
    "colab": {
     "base_uri": "https://localhost:8080/"
    },
    "execution": {
     "iopub.execute_input": "2021-05-27T15:29:53.350165Z",
     "iopub.status.busy": "2021-05-27T15:29:53.349435Z",
     "iopub.status.idle": "2021-05-27T15:30:03.680480Z",
     "shell.execute_reply": "2021-05-27T15:30:03.679794Z",
     "shell.execute_reply.started": "2021-05-20T17:15:17.263544Z"
    },
    "id": "compound-species",
    "outputId": "33746cbe-c915-4d89-e03d-bf3f8a22d9f5",
    "papermill": {
     "duration": 10.401317,
     "end_time": "2021-05-27T15:30:03.680624",
     "exception": false,
     "start_time": "2021-05-27T15:29:53.279307",
     "status": "completed"
    },
    "tags": []
   },
   "outputs": [],
   "source": [
    "# Creating hyperparameter options\n",
    "dectree_params = {'max_depth': np.arange(0, 20, 1),\n",
    "                  'criterion': ['gini', 'entropy'],\n",
    "                  'min_samples_leaf': np.arange(0, 1, 0.05),\n",
    "                  'random_state': [seed]}\n",
    "\n",
    "# GrideSearcCV\n",
    "dectree_grid = GridSearchCV(estimator=DecisionTreeClassifier(), param_grid=dectree_params,\n",
    "                            scoring='accuracy', cv=5)\n",
    "dectree_grid.fit(training_features, training_label)\n",
    "dectree_opt_param = dectree_grid.best_params_\n",
    "dectree_best_score = (dectree_grid.best_score_*100).round(2)\n",
    "dectree_best_est = dectree_grid.best_estimator_\n",
    "dectree_feat_imp = dectree_best_est.feature_importances_\n",
    "\n",
    "# Score on holdout data\n",
    "dectree_holdout_score = (dectree_grid.score(test_features, test_label)*100).round(2)\n",
    "\n",
    "print('Optimal Hyperparameters:')\n",
    "print(dectree_opt_param)\n",
    "print('Optimal Estimator:')\n",
    "print(dectree_best_est)\n",
    "print('\\n')\n",
    "print('Training Accuracy {}'.format(dectree_best_score))\n",
    "print('Testing Accuracy {}'.format(dectree_holdout_score))"
   ]
  },
  {
   "cell_type": "markdown",
   "id": "consolidated-accordance",
   "metadata": {
    "id": "consolidated-accordance",
    "papermill": {
     "duration": 0.061471,
     "end_time": "2021-05-27T15:41:01.448773",
     "exception": false,
     "start_time": "2021-05-27T15:41:01.387302",
     "status": "completed"
    },
    "tags": []
   },
   "source": [
    "# Random Forest"
   ]
  },
  {
   "cell_type": "code",
   "execution_count": null,
   "id": "exciting-protein",
   "metadata": {
    "colab": {
     "base_uri": "https://localhost:8080/"
    },
    "execution": {
     "iopub.execute_input": "2021-05-27T15:41:01.594440Z",
     "iopub.status.busy": "2021-05-27T15:41:01.593414Z",
     "iopub.status.idle": "2021-05-27T15:46:39.503398Z",
     "shell.execute_reply": "2021-05-27T15:46:39.503966Z",
     "shell.execute_reply.started": "2021-05-20T17:26:29.537992Z"
    },
    "id": "exciting-protein",
    "outputId": "da2306ee-c77a-41a1-a73c-0fb3e6535c4b",
    "papermill": {
     "duration": 337.99099,
     "end_time": "2021-05-27T15:46:39.504159",
     "exception": false,
     "start_time": "2021-05-27T15:41:01.513169",
     "status": "completed"
    },
    "tags": []
   },
   "outputs": [],
   "source": [
    "# Creating hyperparameter options\n",
    "rf_params = {'max_depth': np.arange(0, 20, 1),\n",
    "             'criterion': ['gini', 'entropy'],\n",
    "             'min_samples_leaf': np.arange(0, 1, 0.05),\n",
    "             'random_state': [seed],\n",
    "             'n_estimators': np.arange(0, 10, 1)}\n",
    "\n",
    "# GrideSearcCV\n",
    "rf_grid = GridSearchCV(estimator=RandomForestClassifier(), param_grid=rf_params,\n",
    "                       scoring='accuracy', cv=5)\n",
    "rf_grid.fit(training_features, training_label)\n",
    "rf_opt_param = rf_grid.best_params_\n",
    "rf_best_score = (rf_grid.best_score_*100).round(2)\n",
    "rf_best_est = rf_grid.best_estimator_\n",
    "rf_feat_imp = rf_best_est.feature_importances_\n",
    "\n",
    "# Score on holdout data\n",
    "rf_holdout_score = (rf_grid.score(test_features, test_label)*100).round(2)\n",
    "\n",
    "print('Optimal Hyperparameters:')\n",
    "print(rf_opt_param)\n",
    "print('Optimal Estimator:')\n",
    "print(rf_best_est)\n",
    "print('\\n')\n",
    "print('Training Accuracy {}'.format(rf_best_score))\n",
    "print('Testing Accuracy {}'.format(rf_holdout_score))"
   ]
  },
  {
   "cell_type": "code",
   "execution_count": null,
   "id": "4wGyyX_YbTrf",
   "metadata": {
    "colab": {
     "base_uri": "https://localhost:8080/",
     "height": 723
    },
    "id": "4wGyyX_YbTrf",
    "outputId": "1699cae7-a65b-40e6-dc4c-d86ac69fdd42"
   },
   "outputs": [],
   "source": [
    "# Plotting feature importnace\n",
    "plt.barh(selected_feature_names, rf_feat_imp)\n",
    "plt.show()\n",
    "plt.close"
   ]
  },
  {
   "cell_type": "markdown",
   "id": "sufficient-large",
   "metadata": {
    "id": "sufficient-large",
    "papermill": {
     "duration": 0.063639,
     "end_time": "2021-05-27T15:46:40.116959",
     "exception": false,
     "start_time": "2021-05-27T15:46:40.053320",
     "status": "completed"
    },
    "tags": []
   },
   "source": [
    "# XGBoosting"
   ]
  },
  {
   "cell_type": "code",
   "execution_count": null,
   "id": "dense-productivity",
   "metadata": {
    "colab": {
     "base_uri": "https://localhost:8080/"
    },
    "execution": {
     "iopub.execute_input": "2021-05-27T15:46:40.254335Z",
     "iopub.status.busy": "2021-05-27T15:46:40.251526Z",
     "iopub.status.idle": "2021-05-27T15:49:20.747564Z",
     "shell.execute_reply": "2021-05-27T15:49:20.748115Z",
     "shell.execute_reply.started": "2021-05-20T17:31:59.386634Z"
    },
    "id": "dense-productivity",
    "outputId": "a2f24447-93db-4c10-b4b6-f70f68337e4f",
    "papermill": {
     "duration": 160.568025,
     "end_time": "2021-05-27T15:49:20.748294",
     "exception": false,
     "start_time": "2021-05-27T15:46:40.180269",
     "status": "completed"
    },
    "tags": []
   },
   "outputs": [],
   "source": [
    "# Creating hyperparameter options\n",
    "xgb_params = {'max_depth': np.arange(0, 5, 1),\n",
    "              'objective': ['binary:logistic'],\n",
    "              'random_state': [seed],\n",
    "              'alpha': [0, 0.01, 0.1, 1],\n",
    "              'lambda': [0, 0.01, 0.1, 1],\n",
    "              'subsample': [0.25, 0.5, 0.75],\n",
    "              'colsample_bytree': [0.25, 0.5, 0.75],\n",
    "              'eval_metric': ['logloss']}\n",
    "\n",
    "# GrideSearcCV\n",
    "xgb_grid = GridSearchCV(estimator=XGBClassifier(), param_grid=xgb_params,\n",
    "                            scoring='accuracy', cv=5)\n",
    "xgb_grid.fit(training_features, training_label)\n",
    "xgb_opt_param = xgb_grid.best_params_\n",
    "xgb_best_score = (xgb_grid.best_score_*100).round(2)\n",
    "xgb_best_est = xgb_grid.best_estimator_\n",
    "xgb_feat_imp = xgb_best_est.feature_importances_\n",
    "\n",
    "# Score on holdout data\n",
    "xgb_holdout_score = (xgb_grid.score(test_features, test_label)*100).round(2)\n",
    "\n",
    "print('Optimal Hyperparameters:')\n",
    "print(xgb_opt_param)\n",
    "print('Optimal Estimator:')\n",
    "print(xgb_best_est)\n",
    "print('\\n')\n",
    "print('Training Accuracy {}'.format(xgb_best_score))\n",
    "print('Testing Accuracy {}'.format(xgb_holdout_score))"
   ]
  },
  {
   "cell_type": "code",
   "execution_count": null,
   "id": "right-arrival",
   "metadata": {
    "colab": {
     "base_uri": "https://localhost:8080/",
     "height": 723
    },
    "execution": {
     "iopub.execute_input": "2021-05-27T15:49:20.896465Z",
     "iopub.status.busy": "2021-05-27T15:49:20.895752Z",
     "iopub.status.idle": "2021-05-27T15:49:21.221054Z",
     "shell.execute_reply": "2021-05-27T15:49:21.220506Z",
     "shell.execute_reply.started": "2021-05-20T17:34:39.217971Z"
    },
    "id": "right-arrival",
    "outputId": "7d423ec9-2339-4325-a7c0-08f2db4239c0",
    "papermill": {
     "duration": 0.409506,
     "end_time": "2021-05-27T15:49:21.221204",
     "exception": false,
     "start_time": "2021-05-27T15:49:20.811698",
     "status": "completed"
    },
    "tags": []
   },
   "outputs": [],
   "source": [
    "# Plotting feature importance\n",
    "plt.barh(selected_feature_names, xgb_feat_imp)"
   ]
  },
  {
   "cell_type": "code",
   "execution_count": null,
   "id": "Os_9LK9d-ZUV",
   "metadata": {
    "colab": {
     "base_uri": "https://localhost:8080/"
    },
    "id": "Os_9LK9d-ZUV",
    "outputId": "add997a2-964d-4453-fa4e-f8ae8de0f789"
   },
   "outputs": [],
   "source": [
    "from sklearn.metrics import classification_report, confusion_matrix\n",
    "from sklearn.model_selection import GridSearchCV, KFold\n",
    "from sklearn.tree import DecisionTreeClassifier\n",
    "from sklearn.ensemble import RandomForestClassifier\n",
    "from xgboost import XGBClassifier\n",
    "from sklearn.neural_network import MLPClassifier\n",
    "from sklearn.preprocessing import StandardScaler\n",
    "from sklearn.pipeline import Pipeline\n",
    "from sklearn.model_selection import train_test_split\n",
    "import numpy as np\n",
    "from sklearn.metrics import accuracy_score\n",
    "from sklearn.model_selection import cross_val_score\n",
    "\n",
    "\n",
    "from sklearn.ensemble import VotingClassifier\n",
    "\n",
    "# Hybrid Model\n",
    "hybrid_models = [('DecisionTree', dectree_best_est), ('RandomForest', rf_best_est), ('XGBoost', xgb_best_est)]\n",
    "hybrid_model = VotingClassifier(hybrid_models)\n",
    "hybrid_model.fit(training_features, training_label)\n",
    "hybrid_predictions = hybrid_model.predict(test_features)\n",
    "hybrid_accuracy = accuracy_score(test_label, hybrid_predictions)\n",
    "\n",
    "print('Hybrid Model:')\n",
    "print('Accuracy:', hybrid_accuracy)\n",
    "print('Classification Report:')\n",
    "print(classification_report(test_label, hybrid_predictions))\n",
    "print('Confusion Matrix:')\n",
    "print(confusion_matrix(test_label, hybrid_predictions))\n",
    "\n",
    "# Cross Validation for Hybrid Model\n",
    "hybrid_cv_scores = cross_val_score(hybrid_model, features, label, cv=5, scoring='accuracy')\n",
    "mean_hybrid_cv_score = np.mean(hybrid_cv_scores)\n",
    "\n",
    "print('Cross Validation Accuracy for Hybrid Model:', mean_hybrid_cv_score)\n"
   ]
  },
  {
   "cell_type": "code",
   "execution_count": null,
   "id": "E-sEfsciAW5M",
   "metadata": {
    "colab": {
     "base_uri": "https://localhost:8080/"
    },
    "id": "E-sEfsciAW5M",
    "outputId": "6b9ef170-3c08-4925-a2f7-4cbd2c5ff128"
   },
   "outputs": [],
   "source": [
    "from sklearn.ensemble import VotingClassifier\n",
    "from sklearn.linear_model import SGDClassifier\n",
    "import matplotlib.pyplot as plt\n",
    "\n",
    "# Define the SGD classifier with the desired optimizer\n",
    "sgd_classifier = SGDClassifier(loss='log', max_iter=1000, random_state=42)\n",
    "\n",
    "\n",
    "# Update hybrid models with optimizers\n",
    "hybrid_models_optimizers = [('SGD', sgd_classifier)]\n",
    "\n",
    "# Lists to store accuracy values\n",
    "train_acc_values = []\n",
    "val_acc_values = []\n",
    "\n",
    "# Iterate over the optimizers\n",
    "for optimizer, model in hybrid_models_optimizers:\n",
    "    hybrid_model.estimators = hybrid_models + [(optimizer, model)]\n",
    "    \n",
    "    # Fit the hybrid model\n",
    "    hybrid_model.fit(training_features, training_label)\n",
    "    \n",
    "    # Predict on training and validation data\n",
    "    train_predictions = hybrid_model.predict(training_features)\n",
    "    val_predictions = hybrid_model.predict(test_features)\n",
    "    \n",
    "    # Calculate accuracy for training and validation data\n",
    "    train_accuracy = accuracy_score(training_label, train_predictions)\n",
    "    val_accuracy = accuracy_score(test_label, val_predictions)\n",
    "    \n",
    "    # Store the accuracy values\n",
    "    train_acc_values.append(train_accuracy)\n",
    "    val_acc_values.append(val_accuracy)\n",
    "    \n",
    "    # Print the results\n",
    "    print('Optimizer:', optimizer)\n",
    "    print('Training Accuracy:', train_accuracy)\n",
    "    print('Validation Accuracy:', val_accuracy)\n",
    "    print('-----------------------')\n"
   ]
  },
  {
   "cell_type": "code",
   "execution_count": null,
   "id": "OZjKB3rsI7QZ",
   "metadata": {
    "colab": {
     "base_uri": "https://localhost:8080/",
     "height": 834
    },
    "id": "OZjKB3rsI7QZ",
    "outputId": "fc7c9e22-6c56-4cb4-fae9-7d45541a2e26"
   },
   "outputs": [],
   "source": [
    "from sklearn.ensemble import VotingClassifier\n",
    "from sklearn.linear_model import SGDClassifier\n",
    "import matplotlib.pyplot as plt\n",
    "import numpy as np\n",
    "\n",
    "# Define the SGD classifier with the desired optimizer\n",
    "sgd_classifier = SGDClassifier(loss='log', max_iter=1000, random_state=42)\n",
    "\n",
    "# Update hybrid models with optimizers\n",
    "hybrid_models_optimizers = [('SGD', sgd_classifier)]\n",
    "\n",
    "# Lists to store accuracy values\n",
    "train_acc_values = []\n",
    "val_acc_values = []\n",
    "\n",
    "# Set the number of epochs\n",
    "num_epochs = 10\n",
    "\n",
    "# Iterate over the optimizers\n",
    "for optimizer, model in hybrid_models_optimizers:\n",
    "    # Create a new instance of VotingClassifier for each optimizer\n",
    "    hybrid_model = VotingClassifier(estimators=hybrid_models + [(optimizer, model)])\n",
    "    \n",
    "    # Lists to store accuracy values for each epoch\n",
    "    train_acc_epochs = []\n",
    "    val_acc_epochs = []\n",
    "    \n",
    "    # Iterate over epochs\n",
    "    for epoch in range(1, num_epochs + 1):\n",
    "        # Fit the hybrid model\n",
    "        hybrid_model.fit(training_features, training_label)\n",
    "        \n",
    "        # Predict on training and validation data\n",
    "        train_predictions = hybrid_model.predict(training_features)\n",
    "        val_predictions = hybrid_model.predict(test_features)\n",
    "        \n",
    "        # Calculate accuracy for training and validation data\n",
    "        train_accuracy = accuracy_score(training_label, train_predictions)\n",
    "        val_accuracy = accuracy_score(test_label, val_predictions)\n",
    "        \n",
    "        # Append accuracy values for the current epoch\n",
    "        train_acc_epochs.append(train_accuracy)\n",
    "        val_acc_epochs.append(val_accuracy)\n",
    "        \n",
    "    # Print the results\n",
    "    print('Optimizer:', optimizer)\n",
    "    print('Training Accuracy:', train_accuracy)\n",
    "    print('Validation Accuracy:', val_accuracy)\n",
    "    print('-----------------------')\n",
    "    \n",
    "    # Append accuracy values for all epochs\n",
    "    train_acc_values.append(train_acc_epochs)\n",
    "    val_acc_values.append(val_acc_epochs)\n",
    "\n",
    "# Convert accuracy lists to numpy arrays\n",
    "train_acc_values = np.array(train_acc_values)\n",
    "val_acc_values = np.array(val_acc_values)\n",
    "\n",
    "# Plot the accuracy evaluation graph\n",
    "epochs = np.arange(1, num_epochs + 1)\n",
    "plt.plot(epochs, train_acc_values.T, label='Train Accuracy')\n",
    "plt.plot(epochs, val_acc_values.T, label='Validation Accuracy')\n",
    "plt.xlabel('Epochs')\n",
    "plt.ylabel('Accuracy')\n",
    "plt.title('Accuracy vs Epochs')\n",
    "plt.legend()\n",
    "plt.grid(True)\n",
    "plt.show()\n"
   ]
  },
  {
   "cell_type": "code",
   "execution_count": null,
   "id": "p1Va7wkNgJb9",
   "metadata": {
    "colab": {
     "base_uri": "https://localhost:8080/"
    },
    "id": "p1Va7wkNgJb9",
    "outputId": "19e8bd15-f3b9-47ee-ff14-88e18815bc85"
   },
   "outputs": [],
   "source": [
    "# Evaluate the model on the validation set\n",
    "val_predictions = hybrid_model.predict(val_features)\n",
    "val_accuracy = accuracy_score(val_label, val_predictions)\n",
    "print('Validation Accuracy:', val_accuracy)"
   ]
  },
  {
   "cell_type": "markdown",
   "id": "handmade-pointer",
   "metadata": {
    "id": "handmade-pointer",
    "papermill": {
     "duration": 0.065978,
     "end_time": "2021-05-27T15:49:21.820558",
     "exception": false,
     "start_time": "2021-05-27T15:49:21.754580",
     "status": "completed"
    },
    "tags": []
   },
   "source": [
    "# CONCLUSIONS"
   ]
  },
  {
   "cell_type": "markdown",
   "id": "marine-function",
   "metadata": {
    "id": "marine-function",
    "papermill": {
     "duration": 0.065637,
     "end_time": "2021-05-27T15:49:21.952422",
     "exception": false,
     "start_time": "2021-05-27T15:49:21.886785",
     "status": "completed"
    },
    "tags": []
   },
   "source": [
    "### Model Performance on Unseen Data\n",
    " Model | Accuracy (%)\n",
    " - | -\n",
    "Logistic Regression | 95.47\n",
    "Decision Tree | 99.44\n",
    "SVM | 94.99\n",
    "Random Forest | 99.47\n",
    "XGBoosting | **99.49**\n",
    "\n",
    "As we can see above, **XGBoosting** has provided the best performance on unseen data, and thus is the best model for this classifcation problem out of those tested. Nonetheless the difference amongst the three tree based models (Decision Tree / Random Forest / XGBoosting) is almost negligible. \n",
    "\n",
    "In an scenario were the model was going to be deployed into production, it would be interesting to look into the relation between the different accuracy performances and resource consumption. Given the small performance difference, an argument can be made that the best model, out of the three tree based models, is the one that consumes less resources.\n",
    "\n",
    "### Feature Importance\n",
    "Looking into each tree based model we can see a pattern on feature importance of the best estimator found for each model.\n",
    "\n",
    "Found on 100% of the best models:\n",
    "- Minimum Orbit Intersection\n",
    "- Absolute Magnitude\n",
    "\n",
    "Found on 33% of the best models:\n",
    "- Orbit ID\n",
    "- Perihelion Distance\n",
    "- Est dia in KM(min). This feature is the one I selected to capture size. Given the perfect correlation between size features (same measurement, different units) any of them would yield the same result, as long as only one is selected as part of the training dataset.\n",
    "\n",
    "\n",
    "### Overfitting\n",
    "- All models present some degree of overfitting (train accuracy > test accuracy). Nonetheless the differences are relatively small, less than 1 percentage point (except for SVM). Given this I would not consider that the selected model presents a significant overfitting issue.\n"
   ]
  },
  {
   "cell_type": "code",
   "execution_count": null,
   "id": "Nk4UEafnznrb",
   "metadata": {
    "colab": {
     "base_uri": "https://localhost:8080/"
    },
    "id": "Nk4UEafnznrb",
    "outputId": "73c52696-2a1f-466f-e2ff-831dcc4e3210"
   },
   "outputs": [],
   "source": [
    "import joblib\n",
    "joblib.dump(hybrid_model,'model.pkl')"
   ]
  },
  {
   "cell_type": "code",
   "execution_count": null,
   "id": "cbe98e3a",
   "metadata": {},
   "outputs": [],
   "source": []
  }
 ],
 "metadata": {
  "colab": {
   "provenance": []
  },
  "kernelspec": {
   "display_name": "Python 3 (ipykernel)",
   "language": "python",
   "name": "python3"
  },
  "language_info": {
   "codemirror_mode": {
    "name": "ipython",
    "version": 3
   },
   "file_extension": ".py",
   "mimetype": "text/x-python",
   "name": "python",
   "nbconvert_exporter": "python",
   "pygments_lexer": "ipython3",
   "version": "3.10.9"
  },
  "papermill": {
   "default_parameters": {},
   "duration": 1392.02147,
   "end_time": "2021-05-27T15:49:22.830515",
   "environment_variables": {},
   "exception": null,
   "input_path": "__notebook__.ipynb",
   "output_path": "__notebook__.ipynb",
   "parameters": {},
   "start_time": "2021-05-27T15:26:10.809045",
   "version": "2.3.3"
  }
 },
 "nbformat": 4,
 "nbformat_minor": 5
}
